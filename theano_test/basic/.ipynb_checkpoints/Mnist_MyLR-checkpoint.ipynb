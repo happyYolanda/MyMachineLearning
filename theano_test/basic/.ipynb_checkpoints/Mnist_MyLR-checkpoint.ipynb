{
 "cells": [
  {
   "cell_type": "code",
   "execution_count": 20,
   "metadata": {
    "collapsed": true,
    "deletable": true,
    "editable": true
   },
   "outputs": [],
   "source": [
    "import theano\n",
    "import theano.tensor as T\n",
    "import cPickle, gzip, numpy\n",
    "import time\n",
    "from LogisticRegression import *"
   ]
  },
  {
   "cell_type": "code",
   "execution_count": 21,
   "metadata": {
    "collapsed": true,
    "deletable": true,
    "editable": true
   },
   "outputs": [],
   "source": [
    "def shared_dataset(data_xy, borrow=True):\n",
    "    data_x, data_y = data_xy\n",
    "    shared_x = theano.shared(numpy.asarray(data_x, dtype=theano.config.floatX), borrow=borrow)\n",
    "    shared_y = theano.shared(numpy.asarray(data_y, dtype=theano.config.floatX), borrow=borrow)\n",
    "    return shared_x, T.cast(shared_y, 'int32')"
   ]
  },
  {
   "cell_type": "code",
   "execution_count": 22,
   "metadata": {
    "collapsed": true,
    "deletable": true,
    "editable": true
   },
   "outputs": [],
   "source": [
    "def load_data(dataset='data/mnist.pkl.gz'):\n",
    "    f = gzip.open(dataset, 'rb')\n",
    "    train_set, valid_set, test_set = cPickle.load(f)\n",
    "    f.close()\n",
    "    test_set_x, test_set_y = shared_dataset(test_set)\n",
    "    valid_set_x, valid_set_y = shared_dataset(valid_set)\n",
    "    train_set_x, train_set_y = shared_dataset(train_set)\n",
    "    \n",
    "    return [(train_set_x, train_set_y), (valid_set_x, valid_set_y), (test_set_x, test_set_y)]"
   ]
  },
  {
   "cell_type": "code",
   "execution_count": 24,
   "metadata": {
    "collapsed": true,
    "deletable": true,
    "editable": true
   },
   "outputs": [],
   "source": [
    "def sgd(learning_rate = 0.13, n_epoch = 1000, batch_size = 10):\n",
    "    \n",
    "    #load data\n",
    "    dataset = load_data();\n",
    "    train_set_x, train_set_y = dataset[0] # array([50000,   784])\n",
    "    valid_set_x, valid_set_y = dataset[1] # array([10000,   784])\n",
    "    test_set_x, test_set_y = dataset[2] #array([10000,   784])\n",
    "    \n",
    "    #compute number of minibatches\n",
    "    n_train_batches = train_set_x.get_value(borrow=True).shape[0] / batch_size\n",
    "    n_valid_batches = valid_set_x.get_value(borrow=True).shape[0] / batch_size\n",
    "    n_test_batches = test_set_x.get_value(borrow=True).shape[0] / batch_size\n",
    "    \n",
    "    print ('training set has %i batches' %n_train_batches)\n",
    "    print ('validate set has %i batches' %n_valid_batches)\n",
    "    print ('testing set has %i batches' %n_test_batches)\n",
    "    \n",
    "    \n",
    "    \n",
    "    #---------------------BUILD MODEL-----------------------#\n",
    "    print 'Build Model...'\n",
    "    \n",
    "    minibatch_index = T.lscalar()\n",
    "    x = T.matrix('x')\n",
    "    y = T.ivector('y')\n",
    "    \n",
    "    #construct the logistic regression class\n",
    "    classifier = LogisticRegression(input = x, n_in = 28*28, n_out = 10)\n",
    "    cost = classifier.negative_log_likelihood(y)\n",
    "    \n",
    "    #model on a minibatch\n",
    "    test_model = theano.function(inputs=[minibatch_index],\n",
    "            outputs=classifier.errors_nl(y),\n",
    "            givens={\n",
    "                x: test_set_x[minibatch_index * batch_size: (minibatch_index + 1) * batch_size],\n",
    "                y: test_set_y[minibatch_index * batch_size: (minibatch_index + 1) * batch_size]})\n",
    "               \n",
    "    validate_model = theano.function(inputs = [minibatch_index],\n",
    "                                     outputs = classifier.errors_nl(y),\n",
    "                                     givens = {x:valid_set_x[minibatch_index*batch_size : (minibatch_index+1)*batch_size],\n",
    "                                               y:valid_set_y[minibatch_index*batch_size : (minibatch_index+1)*batch_size]})\n",
    "    \n",
    "    #compute gradient\n",
    "    g_W = T.grad(cost = cost, wrt = classifier.W)\n",
    "    g_b = T.grad(cost = cost, wrt = classifier.b)\n",
    "    updates = [(classifier.W , classifier.W - learning_rate*g_W),\n",
    "               (classifier.b, classifier.b - learning_rate*g_b)]\n",
    "    #updates should be defined as a list of pairs of (shared-variable, new expression)\n",
    "               \n",
    "    train_model = theano.function(inputs = [minibatch_index],\n",
    "                                  outputs = cost,\n",
    "                                  updates = updates,\n",
    "                                  givens = {x: train_set_x[minibatch_index*batch_size : (minibatch_index+1)*batch_size],\n",
    "                                            y: train_set_y[minibatch_index*batch_size : (minibatch_index+1)*batch_size]})\n",
    "    \n",
    "    #---------------------Train-----------------------#\n",
    "    print 'Training the model...'\n",
    "    \n",
    "    #early stop parameters\n",
    "    patience = 5000\n",
    "    patience_increase = 2  # wait this much longer when a new best is found\n",
    "    improvement_thres = 0.995\n",
    "    validation_frequency = min(n_train_batches,patience/2)\n",
    "    best_validation_loss = numpy.inf\n",
    "    test_score = 0\n",
    "    start_time = time.clock()\n",
    "    done_looping = False\n",
    "    epoch = 0\n",
    "    \n",
    "    while (epoch<n_epoch) and (not done_looping):\n",
    "        epoch = epoch+1\n",
    "        for minibatch_index_train in range(n_train_batches):\n",
    "            minibatch_avg_cost = train_model(minibatch_index_train)\n",
    "            # number of iterations (updates)\n",
    "            iter = (epoch-1) * n_train_batches + minibatch_index_train\n",
    "            \n",
    "            if (iter+1)%validation_frequency == 0:\n",
    "                validation_losses = [validate_model(i) for i in xrange(n_valid_batches)]\n",
    "                cur_validation_loss = numpy.mean(validation_losses)\n",
    "                print('epoch %i, training minibatch %i/%i, validation error %f %%' %\\\n",
    "                (epoch, minibatch_index_train+1, n_train_batches, cur_validation_loss*100.))\n",
    "                \n",
    "                #compare with best validation loss\n",
    "                if  cur_validation_loss< best_validation_loss:\n",
    "                    if cur_validation_loss < best_validation_loss*improvement_thres:\n",
    "                        #define patience: if best_validation_loss not changes over 'patience' iterations\n",
    "                        patience = max(patience, iter*patience_increase)\n",
    "                    best_validation_loss = cur_validation_loss\n",
    "                    test_loss = [test_model(i) for i in xrange(n_test_batches)]\n",
    "                    test_score = numpy.mean(test_loss)\n",
    "                    print (('     epoch %i, minibatch %i/%i, test error of best'\n",
    "                       ' model %f %%') %\n",
    "                       (epoch, minibatch_index_train + 1, n_train_batches,\n",
    "                         test_score * 100.))\n",
    "            if patience<=iter:\n",
    "                done_looping = True\n",
    "                break\n",
    "    \n",
    "    end_time = time.clock()\n",
    "    print(('Optimization completed with best validation score of %f %%,'\n",
    "            'with test performance %f %%')%\n",
    "            (best_validation_loss*100., test_score*100.))\n",
    "    \n",
    "    print 'The code run for %d epochs, with %f epochs/sec' %(\n",
    "            epoch, 1.*epoch/(end_time-start_time))"
   ]
  },
  {
   "cell_type": "code",
   "execution_count": 25,
   "metadata": {
    "collapsed": false,
    "deletable": true,
    "editable": true
   },
   "outputs": [
    {
     "name": "stdout",
     "output_type": "stream",
     "text": [
      "training set has 5000 batches\n",
      "validate set has 1000 batches\n",
      "testing set has 1000 batches\n",
      "Build Model...\n",
      "Training the model...\n",
      "epoch 1, training minibatch 2500/5000, validation error 9.070000 %\n",
      "     epoch 1, minibatch 2500/5000, test error of best model 9.170000 %\n",
      "epoch 1, training minibatch 5000/5000, validation error 8.520000 %\n",
      "     epoch 1, minibatch 5000/5000, test error of best model 9.110000 %\n",
      "epoch 2, training minibatch 2500/5000, validation error 8.420000 %\n",
      "     epoch 2, minibatch 2500/5000, test error of best model 8.480000 %\n",
      "epoch 2, training minibatch 5000/5000, validation error 8.200000 %\n",
      "     epoch 2, minibatch 5000/5000, test error of best model 8.800000 %\n",
      "epoch 3, training minibatch 2500/5000, validation error 8.170000 %\n",
      "     epoch 3, minibatch 2500/5000, test error of best model 8.350000 %\n",
      "epoch 3, training minibatch 5000/5000, validation error 8.060000 %\n",
      "     epoch 3, minibatch 5000/5000, test error of best model 8.620000 %\n",
      "epoch 4, training minibatch 2500/5000, validation error 8.020000 %\n",
      "     epoch 4, minibatch 2500/5000, test error of best model 8.210000 %\n",
      "epoch 4, training minibatch 5000/5000, validation error 7.950000 %\n",
      "     epoch 4, minibatch 5000/5000, test error of best model 8.630000 %\n",
      "epoch 5, training minibatch 2500/5000, validation error 8.010000 %\n",
      "epoch 5, training minibatch 5000/5000, validation error 7.910000 %\n",
      "     epoch 5, minibatch 5000/5000, test error of best model 8.610000 %\n",
      "epoch 6, training minibatch 2500/5000, validation error 7.790000 %\n",
      "     epoch 6, minibatch 2500/5000, test error of best model 8.140000 %\n",
      "epoch 6, training minibatch 5000/5000, validation error 7.870000 %\n",
      "epoch 7, training minibatch 2500/5000, validation error 7.780000 %\n",
      "     epoch 7, minibatch 2500/5000, test error of best model 8.040000 %\n",
      "epoch 7, training minibatch 5000/5000, validation error 7.840000 %\n",
      "epoch 8, training minibatch 2500/5000, validation error 7.750000 %\n",
      "     epoch 8, minibatch 2500/5000, test error of best model 8.020000 %\n",
      "epoch 8, training minibatch 5000/5000, validation error 7.790000 %\n",
      "epoch 9, training minibatch 2500/5000, validation error 7.780000 %\n",
      "epoch 9, training minibatch 5000/5000, validation error 7.780000 %\n",
      "epoch 10, training minibatch 2500/5000, validation error 7.820000 %\n",
      "epoch 10, training minibatch 5000/5000, validation error 7.790000 %\n",
      "epoch 11, training minibatch 2500/5000, validation error 7.850000 %\n",
      "Optimization completed with best validation score of 7.750000 %,with test performance 8.020000 %\n",
      "The code run for 11 epochs, with 0.780989 epochs/sec\n"
     ]
    }
   ],
   "source": [
    "if __name__ == '__main__':\n",
    "    sgd()"
   ]
  },
  {
   "cell_type": "code",
   "execution_count": null,
   "metadata": {
    "collapsed": true,
    "deletable": true,
    "editable": true
   },
   "outputs": [],
   "source": []
  }
 ],
 "metadata": {
  "kernelspec": {
   "display_name": "Python 2",
   "language": "python",
   "name": "python2"
  },
  "language_info": {
   "codemirror_mode": {
    "name": "ipython",
    "version": 2
   },
   "file_extension": ".py",
   "mimetype": "text/x-python",
   "name": "python",
   "nbconvert_exporter": "python",
   "pygments_lexer": "ipython2",
   "version": "2.7.12"
  }
 },
 "nbformat": 4,
 "nbformat_minor": 2
}
