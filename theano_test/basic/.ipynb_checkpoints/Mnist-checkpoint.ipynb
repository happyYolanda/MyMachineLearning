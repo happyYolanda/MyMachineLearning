{
 "cells": [
  {
   "cell_type": "code",
   "execution_count": 10,
   "metadata": {
    "collapsed": true,
    "deletable": true,
    "editable": true
   },
   "outputs": [],
   "source": [
    "import sys\n",
    "import os\n",
    "import numpy\n",
    "import theano\n",
    "import theano.tensor as TT\n",
    "import gzip\n",
    "import cPickle\n",
    "import timeit\n",
    "from LogisticRegression import *\n",
    "from mlp import *"
   ]
  },
  {
   "cell_type": "code",
   "execution_count": 11,
   "metadata": {
    "collapsed": true,
    "deletable": true,
    "editable": true
   },
   "outputs": [],
   "source": [
    "def shared_dataset(data_xy, borrow=True):\n",
    "    data_x, data_y = data_xy\n",
    "    shared_x = theano.shared(numpy.asarray(data_x, dtype=theano.config.floatX), borrow=borrow)\n",
    "    shared_y = theano.shared(numpy.asarray(data_y, dtype=theano.config.floatX), borrow=borrow)\n",
    "    return shared_x, T.cast(shared_y, 'int32')"
   ]
  },
  {
   "cell_type": "code",
   "execution_count": 12,
   "metadata": {
    "collapsed": true,
    "deletable": true,
    "editable": true
   },
   "outputs": [],
   "source": [
    "def load_data(dataset='data/mnist.pkl.gz'):\n",
    "    f = gzip.open(dataset, 'rb')\n",
    "    train_set, valid_set, test_set = cPickle.load(f)\n",
    "    f.close()\n",
    "    test_set_x, test_set_y = shared_dataset(test_set)\n",
    "    valid_set_x, valid_set_y = shared_dataset(valid_set)\n",
    "    train_set_x, train_set_y = shared_dataset(train_set)\n",
    "    \n",
    "    return [(train_set_x, train_set_y), (valid_set_x, valid_set_y), (test_set_x, test_set_y)]"
   ]
  },
  {
   "cell_type": "code",
   "execution_count": 13,
   "metadata": {
    "collapsed": true,
    "deletable": true,
    "editable": true
   },
   "outputs": [],
   "source": [
    "def train(lrate=0.01, n_epochs = 10, dataset = 'data/mnist.pkl.gz', batch_size = 40, L1_reg = 0.00, L2_reg = 0.0001, n_hidden = 500):\n",
    "    datasets = load_data(dataset)\n",
    "    train_set_x, train_set_y = datasets[0]\n",
    "    valid_set_x, valid_set_y = datasets[1]\n",
    "    test_set_x, test_set_y = datasets[2]\n",
    "\n",
    "    # compute number of minibatches for training, validation and testing\n",
    "    n_train_batches = train_set_x.get_value(borrow=True).shape[0] / batch_size\n",
    "    n_valid_batches = valid_set_x.get_value(borrow=True).shape[0] / batch_size\n",
    "    n_test_batches = test_set_x.get_value(borrow=True).shape[0] / batch_size\n",
    "    \n",
    "    index = T.lscalar()\n",
    "    x = T.matrix(\"x\")\n",
    "    y = T.ivector(\"y\")\n",
    "    \n",
    "    '''\n",
    "    classifier = LogisticRegression(x, n_in = 28 * 28, n_out = 10)\n",
    "    cost = classifier.loss(y)\n",
    "    '''\n",
    "    rng = numpy.random.RandomState(1234)\n",
    "    classifier = MLP(rng=rng, input=x, n_in = 28 * 28, n_hidden = n_hidden, n_out = 10)\n",
    "    cost = classifier.loss(y) + L1_reg * classifier.L1 + L2_reg * classifier.L2\n",
    "    \n",
    "    grads = T.grad(cost, classifier.params)\n",
    "    updates = [(p, p - lrate * g) for (p, g) in zip(classifier.params, grads)]\n",
    "    \n",
    "    train_model = theano.function(\n",
    "        inputs=[index],\n",
    "        outputs=cost,\n",
    "        updates=updates,\n",
    "        givens={\n",
    "            x: train_set_x[index * batch_size: (index + 1) * batch_size],\n",
    "            y: train_set_y[index * batch_size: (index + 1) * batch_size]\n",
    "        }\n",
    "    )\n",
    "    test_model = theano.function(\n",
    "        inputs=[index],\n",
    "        outputs=classifier.errors(y),\n",
    "        givens={\n",
    "            x: test_set_x[index * batch_size: (index + 1) * batch_size],\n",
    "            y: test_set_y[index * batch_size: (index + 1) * batch_size]\n",
    "        }\n",
    "    )\n",
    "    validate_model = theano.function(\n",
    "        inputs=[index],\n",
    "        outputs=classifier.errors(y),\n",
    "        givens={\n",
    "            x: valid_set_x[index * batch_size: (index + 1) * batch_size],\n",
    "            y: valid_set_y[index * batch_size: (index + 1) * batch_size]\n",
    "        }\n",
    "    )\n",
    "    \n",
    "    patience = 10000  # look as this many examples regardless\n",
    "    patience_increase = 2  # wait this much longer when a new best is found\n",
    "    improvement_threshold = 0.995  # a relative improvement of this much is considered significant\n",
    "    validation_frequency = min(n_train_batches, patience / 2)\n",
    "\n",
    "    best_validation_loss = numpy.inf\n",
    "    test_score = 0.\n",
    "    start_time = timeit.default_timer()\n",
    "\n",
    "    done_looping = False\n",
    "    epoch = 0\n",
    "    while (epoch < n_epochs) and (not done_looping):\n",
    "        epoch = epoch + 1\n",
    "        for minibatch_index in xrange(n_train_batches):\n",
    "            minibatch_avg_cost = train_model(minibatch_index)\n",
    "            # iteration number\n",
    "            iter = (epoch - 1) * n_train_batches + minibatch_index\n",
    "            if (iter + 1) % validation_frequency == 0:\n",
    "                # compute zero-one loss on validation set\n",
    "                validation_losses = [validate_model(i) for i in xrange(n_valid_batches)]\n",
    "                this_validation_loss = numpy.mean(validation_losses)\n",
    "                print( 'epoch %i, minibatch %i/%i, validation error %f %%' %\n",
    "                          (epoch, minibatch_index + 1, n_train_batches, this_validation_loss * 100.))\n",
    "                # if we got the best validation score until now\n",
    "                if this_validation_loss < best_validation_loss:\n",
    "                    #improve patience if loss improvement is good enough\n",
    "                    if this_validation_loss < best_validation_loss * improvement_threshold:\n",
    "                        patience = max(patience, iter * patience_increase)\n",
    "                    best_validation_loss = this_validation_loss\n",
    "                    # test it on the test set\n",
    "                    test_losses = [test_model(i) for i in xrange(n_test_batches)]\n",
    "                    test_score = numpy.mean(test_losses)\n",
    "                    print(('  epoch %i, minibatch %i/%i, test error of' ' best model %f %%') %\n",
    "                            (epoch, minibatch_index + 1, n_train_batches, test_score * 100.))\n",
    "                    # save the best model\n",
    "                    classifier.save(\"best_model.npz\")\n",
    "            if patience <= iter:\n",
    "                done_looping = True\n",
    "                break\n",
    "\n",
    "    end_time = timeit.default_timer()\n",
    "    print(('Optimization complete with best validation score of %f %%,' 'with test performance %f %%') % \n",
    "              (best_validation_loss * 100., test_score * 100.))\n",
    "    print 'The code run for %d epochs, with %f epochs/sec' % (epoch, 1. * epoch / (end_time - start_time))"
   ]
  },
  {
   "cell_type": "code",
   "execution_count": 14,
   "metadata": {
    "collapsed": true,
    "deletable": true,
    "editable": true
   },
   "outputs": [],
   "source": [
    "def predict():\n",
    "    \"\"\"\n",
    "    An example of how to load a trained model and use it\n",
    "    to predict labels.\n",
    "    \"\"\"\n",
    "    x = T.matrix(\"x\")\n",
    "    \n",
    "    '''\n",
    "    classifier = LogisticRegression(x, n_in = 28 * 28, n_out = 10)\n",
    "    '''\n",
    "    \n",
    "    rng = numpy.random.RandomState(1234)\n",
    "    classifier = MLP(rng=rng, input=x, n_in = 28 * 28, n_hidden = 500, n_out = 10)\n",
    "    \n",
    "    # load the saved model\n",
    "    classifier.load('best_model.npz')\n",
    "    \n",
    "    # compile a predictor function\n",
    "    predict_model = theano.function(\n",
    "        inputs=[classifier.input],\n",
    "        outputs=classifier.y_pred)\n",
    "\n",
    "    # We can test it on some examples from test test\n",
    "    dataset='data/mnist.pkl.gz'\n",
    "    datasets = load_data(dataset)\n",
    "    test_set_x, test_set_y = datasets[2]\n",
    "    test_set_x = test_set_x.get_value()\n",
    "\n",
    "    predicted_values = predict_model(test_set_x[:10])\n",
    "    print (\"Predicted values for the first 10 examples in test set:\")\n",
    "    print predicted_values\n",
    "    print (\"Real values for the first 10 examples in test set:\")\n",
    "    print test_set_y[:10].eval()"
   ]
  },
  {
   "cell_type": "code",
   "execution_count": 15,
   "metadata": {
    "collapsed": false,
    "deletable": true,
    "editable": true
   },
   "outputs": [
    {
     "name": "stdout",
     "output_type": "stream",
     "text": [
      "epoch 1, minibatch 1250/1250, validation error 11.020000 %\n",
      "  epoch 1, minibatch 1250/1250, test error of best model 11.360000 %\n",
      "epoch 2, minibatch 1250/1250, validation error 9.740000 %\n",
      "  epoch 2, minibatch 1250/1250, test error of best model 10.140000 %\n",
      "epoch 3, minibatch 1250/1250, validation error 9.070000 %\n",
      "  epoch 3, minibatch 1250/1250, test error of best model 9.130000 %\n",
      "epoch 4, minibatch 1250/1250, validation error 8.610000 %\n",
      "  epoch 4, minibatch 1250/1250, test error of best model 8.630000 %\n",
      "epoch 5, minibatch 1250/1250, validation error 8.270000 %\n",
      "  epoch 5, minibatch 1250/1250, test error of best model 8.320000 %\n",
      "epoch 6, minibatch 1250/1250, validation error 8.050000 %\n",
      "  epoch 6, minibatch 1250/1250, test error of best model 8.010000 %\n",
      "epoch 7, minibatch 1250/1250, validation error 7.920000 %\n",
      "  epoch 7, minibatch 1250/1250, test error of best model 7.920000 %\n",
      "epoch 8, minibatch 1250/1250, validation error 7.710000 %\n",
      "  epoch 8, minibatch 1250/1250, test error of best model 7.740000 %\n",
      "epoch 9, minibatch 1250/1250, validation error 7.570000 %\n",
      "  epoch 9, minibatch 1250/1250, test error of best model 7.580000 %\n",
      "epoch 10, minibatch 1250/1250, validation error 7.370000 %\n",
      "  epoch 10, minibatch 1250/1250, test error of best model 7.410000 %\n",
      "Optimization complete with best validation score of 7.370000 %,with test performance 7.410000 %\n",
      "The code run for 10 epochs, with 0.178700 epochs/sec\n",
      "Predicted values for the first 10 examples in test set:\n",
      "[7 2 1 0 4 1 4 9 6 9]\n",
      "Real values for the first 10 examples in test set:\n",
      "[7 2 1 0 4 1 4 9 5 9]\n"
     ]
    }
   ],
   "source": [
    "if __name__ == '__main__':\n",
    "    train()\n",
    "    predict()"
   ]
  },
  {
   "cell_type": "code",
   "execution_count": null,
   "metadata": {
    "collapsed": true,
    "deletable": true,
    "editable": true
   },
   "outputs": [],
   "source": []
  }
 ],
 "metadata": {
  "kernelspec": {
   "display_name": "Python 2",
   "language": "python",
   "name": "python2"
  },
  "language_info": {
   "codemirror_mode": {
    "name": "ipython",
    "version": 2
   },
   "file_extension": ".py",
   "mimetype": "text/x-python",
   "name": "python",
   "nbconvert_exporter": "python",
   "pygments_lexer": "ipython2",
   "version": "2.7.12"
  }
 },
 "nbformat": 4,
 "nbformat_minor": 2
}
